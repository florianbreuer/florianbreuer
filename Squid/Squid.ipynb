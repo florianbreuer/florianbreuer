{
 "cells": [
  {
   "cell_type": "markdown",
   "metadata": {
    "slideshow": {
     "slide_type": "slide"
    }
   },
   "source": [
    "<img src=\"squid2.jpg\" width=\"200\">\n",
    "<h1><span style=\"Color: red\">S</span>age <span style=\"Color: red\">Qui</span>z <span style=\"Color: red\">D</span>eveloper\n",
    "</h1>\n",
    "\n",
    "Welcome to Squid! An object-oriented approach to creating variants of quiz questions.\n",
    "\n",
    "Squid was created by Florian Breuer (florian.breuer@newcastle.edu.au).\n",
    "\n",
    "This code can be found on Github: https://github.com/florianbreuer/Squid\n",
    "\n",
    "<hr>\n",
    "\n",
    "You are looking at a quick and dirty introduction to the main Squidd features. A more comprehensive tutorial will come later.\n",
    "Can't see the whole page? Reduce the magnification in your browser with \"<tt>ctrl -</tt>\".\n",
    "\n",
    "Squid runs in the Sagemath Jupyter notebook. To use it, install Sage (for free!) from https://www.sagemath.org/\n",
    "\n",
    "Make sure you have the following files in one directory:\n",
    "<ul>\n",
    "    <li><a href=\"https://florianbreuer.github.io/florianbreuer/Squid/Squid.ipynb\" download=\"Squid.ipynb\">Squid.ipynb</a>        (this notebook) </li>\n",
    "    <li><a href=\"https://florianbreuer.github.io/florianbreuer/Squid/QTI_template.xml\" download=\"QTI_template.xml\"> QTI_template.xml</a>   (a template file needed for creating QTI output) </li>\n",
    "    <li><a href=\"https://florianbreuer.github.io/florianbreuer/Squid/Squid-tools2.sage\" download=\"Squid-tools2.sage\">Squid-tools2.sage</a>  (the main Sage code for Squid).</li>\n",
    "</ul>\n",
    "    \n",
    "Then run the notebook server and open Squid.ipynb"
   ]
  },
  {
   "cell_type": "markdown",
   "metadata": {
    "slideshow": {
     "slide_type": "slide"
    }
   },
   "source": [
    "First, we load the basic classes and tools:"
   ]
  },
  {
   "cell_type": "code",
   "execution_count": 5,
   "metadata": {
    "slideshow": {
     "slide_type": "fragment"
    }
   },
   "outputs": [
    {
     "name": "stdout",
     "output_type": "stream",
     "text": [
      "Squid Tools v2, 11 October 2021\n",
      "By Florian Breuer, florian.breuer@newcastle.edu.au\n",
      "\n",
      "Imported the following functions:\n",
      "  For handling QTI files:\n",
      "   id_generator, initialise_qti, qti_set_question_text, qti_MCQ_new, qti_set_points, qti_set_identifier,\n",
      "    qti_insert_question, qti_set_question_text, qti_file_upload_question_new, ET_MCQ, ET_file_upload_question, save_qti\n",
      "\n",
      "  For nicer typesetting:\n",
      "   nicify, nicify0, plus, pplus, suppress1, Taylor\n",
      "\n",
      "  For manipulating and typesetting matrices:\n",
      "   scramble, scramble_full, tootrivial, latexdet\n",
      "\n",
      "  For handling LMS files and marking schemes:\n",
      "   SaveToBBfile, SaveToQtiFile, PrintMarkingScheme, TypesetMarkingScheme, SaveMarkingScheme\n",
      "\n",
      "Imported the following classes:\n",
      "  MATHJAX\n",
      "  linear_system\n",
      "  Question_written\n",
      "  Question_MCQ\n",
      "  QuestionPool\n"
     ]
    }
   ],
   "source": [
    "load(\"Squid-tools2.sage\")"
   ]
  },
  {
   "cell_type": "markdown",
   "metadata": {
    "slideshow": {
     "slide_type": "slide"
    }
   },
   "source": [
    "Squid currently only supports two question types: Multiple-choice and Written-answer. \n",
    "Squid defines two classes, <tt>Question_MCQ</tt> and <tt>Question_written</tt>. \n",
    "\n",
    "to create a new multiple-choice question, we create a subclass of <tt>Question_MCQ</tt> which is initialised by various parameters that can vary from one question variant to another:"
   ]
  },
  {
   "cell_type": "code",
   "execution_count": 15,
   "metadata": {
    "slideshow": {
     "slide_type": "fragment"
    }
   },
   "outputs": [
    {
     "data": {
      "text/html": [
       "Compute $3 + 5$:<br><ol><li>8</li>\n",
       "<li>9</li>\n",
       "<li>10</li>\n",
       "<li>7</li>\n",
       "<li>None of these</li></ol>"
      ],
      "text/plain": [
       "Compute $3 + 5$:"
      ]
     },
     "metadata": {},
     "output_type": "display_data"
    }
   ],
   "source": [
    "class MyMCQ(Question_MCQ):\n",
    "    def __init__(self,a,b):\n",
    "        Question_MCQ.__init__(self)  # this loads some useful methods from Question_MCQ\n",
    "        \n",
    "        self.question_text = f'Compute ${a} + {b}$:'\n",
    "        \n",
    "        self.answer = str(a+b)\n",
    "        \n",
    "        self.wrong_answers = [str(a+b+1), str(a+b+2), str(a+b-1)]\n",
    "        \n",
    "Q = MyMCQ(3,5)\n",
    "display(Q)"
   ]
  },
  {
   "cell_type": "markdown",
   "metadata": {
    "slideshow": {
     "slide_type": "slide"
    }
   },
   "source": [
    "Now we have a working question prototype, let's make a list of variants:"
   ]
  },
  {
   "cell_type": "code",
   "execution_count": 17,
   "metadata": {
    "slideshow": {
     "slide_type": "fragment"
    }
   },
   "outputs": [
    {
     "data": {
      "text/html": [
       "Compute $3 + 4$:<br><ol><li>7</li>\n",
       "<li>8</li>\n",
       "<li>9</li>\n",
       "<li>6</li>\n",
       "<li>None of these</li></ol>"
      ],
      "text/plain": [
       "Compute $3 + 4$:"
      ]
     },
     "metadata": {},
     "output_type": "display_data"
    },
    {
     "data": {
      "text/html": [
       "Compute $3 + 5$:<br><ol><li>8</li>\n",
       "<li>9</li>\n",
       "<li>10</li>\n",
       "<li>7</li>\n",
       "<li>None of these</li></ol>"
      ],
      "text/plain": [
       "Compute $3 + 5$:"
      ]
     },
     "metadata": {},
     "output_type": "display_data"
    },
    {
     "data": {
      "text/html": [
       "Compute $3 + 6$:<br><ol><li>9</li>\n",
       "<li>10</li>\n",
       "<li>11</li>\n",
       "<li>8</li>\n",
       "<li>None of these</li></ol>"
      ],
      "text/plain": [
       "Compute $3 + 6$:"
      ]
     },
     "metadata": {},
     "output_type": "display_data"
    },
    {
     "data": {
      "text/html": [
       "Compute $3 + 7$:<br><ol><li>10</li>\n",
       "<li>11</li>\n",
       "<li>12</li>\n",
       "<li>9</li>\n",
       "<li>None of these</li></ol>"
      ],
      "text/plain": [
       "Compute $3 + 7$:"
      ]
     },
     "metadata": {},
     "output_type": "display_data"
    },
    {
     "data": {
      "text/html": [
       "Compute $3 + 8$:<br><ol><li>11</li>\n",
       "<li>12</li>\n",
       "<li>13</li>\n",
       "<li>10</li>\n",
       "<li>None of these</li></ol>"
      ],
      "text/plain": [
       "Compute $3 + 8$:"
      ]
     },
     "metadata": {},
     "output_type": "display_data"
    },
    {
     "data": {
      "text/html": [
       "Compute $4 + 5$:<br><ol><li>9</li>\n",
       "<li>10</li>\n",
       "<li>11</li>\n",
       "<li>8</li>\n",
       "<li>None of these</li></ol>"
      ],
      "text/plain": [
       "Compute $4 + 5$:"
      ]
     },
     "metadata": {},
     "output_type": "display_data"
    },
    {
     "data": {
      "text/html": [
       "Compute $4 + 6$:<br><ol><li>10</li>\n",
       "<li>11</li>\n",
       "<li>12</li>\n",
       "<li>9</li>\n",
       "<li>None of these</li></ol>"
      ],
      "text/plain": [
       "Compute $4 + 6$:"
      ]
     },
     "metadata": {},
     "output_type": "display_data"
    },
    {
     "data": {
      "text/html": [
       "Compute $4 + 7$:<br><ol><li>11</li>\n",
       "<li>12</li>\n",
       "<li>13</li>\n",
       "<li>10</li>\n",
       "<li>None of these</li></ol>"
      ],
      "text/plain": [
       "Compute $4 + 7$:"
      ]
     },
     "metadata": {},
     "output_type": "display_data"
    },
    {
     "data": {
      "text/html": [
       "Compute $4 + 8$:<br><ol><li>12</li>\n",
       "<li>13</li>\n",
       "<li>14</li>\n",
       "<li>11</li>\n",
       "<li>None of these</li></ol>"
      ],
      "text/plain": [
       "Compute $4 + 8$:"
      ]
     },
     "metadata": {},
     "output_type": "display_data"
    },
    {
     "data": {
      "text/html": [
       "Compute $5 + 6$:<br><ol><li>11</li>\n",
       "<li>12</li>\n",
       "<li>13</li>\n",
       "<li>10</li>\n",
       "<li>None of these</li></ol>"
      ],
      "text/plain": [
       "Compute $5 + 6$:"
      ]
     },
     "metadata": {},
     "output_type": "display_data"
    },
    {
     "data": {
      "text/html": [
       "Compute $5 + 7$:<br><ol><li>12</li>\n",
       "<li>13</li>\n",
       "<li>14</li>\n",
       "<li>11</li>\n",
       "<li>None of these</li></ol>"
      ],
      "text/plain": [
       "Compute $5 + 7$:"
      ]
     },
     "metadata": {},
     "output_type": "display_data"
    },
    {
     "data": {
      "text/html": [
       "Compute $5 + 8$:<br><ol><li>13</li>\n",
       "<li>14</li>\n",
       "<li>15</li>\n",
       "<li>12</li>\n",
       "<li>None of these</li></ol>"
      ],
      "text/plain": [
       "Compute $5 + 8$:"
      ]
     },
     "metadata": {},
     "output_type": "display_data"
    },
    {
     "data": {
      "text/html": [
       "Compute $6 + 7$:<br><ol><li>13</li>\n",
       "<li>14</li>\n",
       "<li>15</li>\n",
       "<li>12</li>\n",
       "<li>None of these</li></ol>"
      ],
      "text/plain": [
       "Compute $6 + 7$:"
      ]
     },
     "metadata": {},
     "output_type": "display_data"
    },
    {
     "data": {
      "text/html": [
       "Compute $6 + 8$:<br><ol><li>14</li>\n",
       "<li>15</li>\n",
       "<li>16</li>\n",
       "<li>13</li>\n",
       "<li>None of these</li></ol>"
      ],
      "text/plain": [
       "Compute $6 + 8$:"
      ]
     },
     "metadata": {},
     "output_type": "display_data"
    },
    {
     "data": {
      "text/html": [
       "Compute $7 + 8$:<br><ol><li>15</li>\n",
       "<li>16</li>\n",
       "<li>17</li>\n",
       "<li>14</li>\n",
       "<li>None of these</li></ol>"
      ],
      "text/plain": [
       "Compute $7 + 8$:"
      ]
     },
     "metadata": {},
     "output_type": "display_data"
    }
   ],
   "source": [
    "ablist = [3,4,5,6,7,8]  # parameter values\n",
    "\n",
    "L = [MyMCQ(a,b) for a in ablist for b in ablist if a<b]\n",
    "\n",
    "for Q in L:\n",
    "    display(Q)"
   ]
  },
  {
   "cell_type": "markdown",
   "metadata": {
    "slideshow": {
     "slide_type": "slide"
    }
   },
   "source": [
    "If we're happy with this, we can export this list of variants into QTI format for Canvas. The result will be a .zip file which can be imported to Canvas (under \"settings\"). Canvas will turn it into an assessment (which you can delete) and a question pool, which is what we wanted."
   ]
  },
  {
   "cell_type": "code",
   "execution_count": 18,
   "metadata": {
    "slideshow": {
     "slide_type": "fragment"
    }
   },
   "outputs": [
    {
     "name": "stdout",
     "output_type": "stream",
     "text": [
      "Got the multiple-choice question: Question 42\n",
      "Got the file upload question: Question 69\n",
      "Created UploadMeToCanvas.xml\n",
      "Created UploadMeToCanvas.zip - You can upload this file to Canvas.\n"
     ]
    }
   ],
   "source": [
    "SaveToQtiFile(L, 'UploadMeToCanvas')"
   ]
  },
  {
   "cell_type": "markdown",
   "metadata": {
    "slideshow": {
     "slide_type": "slide"
    }
   },
   "source": [
    "Of course, our simple addition question is far too trivial. Here's an example of a more complicated question, from MATH1120."
   ]
  },
  {
   "cell_type": "code",
   "execution_count": 21,
   "metadata": {
    "slideshow": {
     "slide_type": "subslide"
    }
   },
   "outputs": [
    {
     "data": {
      "text/html": [
       "Compute the directional derivative of \\(f(x) = x^{2} + y \\) at the point \\(P = \\left(1, -2\\right) \\) in the direction \\(\\langle 1 , 2 \\rangle\\). <br><ol> <li> \\( \\frac{4}{5} \\, \\sqrt{5} \\) </li>\n",
       "<li> \\( 4 \\) </li>\n",
       "<li> \\( 0 \\) </li>\n",
       "<li> \\( \\sqrt{5} \\) </li>\n",
       "<li>None of these</li> </ol>"
      ],
      "text/plain": [
       "Compute the directional derivative of \\(f(x) = x^{2} + y \\) at the point \\(P = \\left(1, -2\\right) \\) in the direction \\(\\langle 1 , 2 \\rangle\\)."
      ]
     },
     "metadata": {},
     "output_type": "display_data"
    }
   ],
   "source": [
    "x,y = var('x y')\n",
    "\n",
    "class DirectionalDerivative(Question_MCQ):\n",
    "    def __init__(self,f,V,P,variant_number=0):\n",
    "        '''Compute the directional derivative of f(x,y) at the point P in the direction v.'''\n",
    "        Question_MCQ.__init__(self)\n",
    "        self.variant_number = variant_number\n",
    "        \n",
    "        fx = diff(f,x)\n",
    "        fy = diff(f,y)\n",
    "        \n",
    "        u = (V[0]/sqrt(V[0]^2+V[1]^2),V[1]/sqrt(V[0]^2+V[1]^2))\n",
    "        \n",
    "        self.question_text = r\"\"\"Compute the directional derivative of \\(f(x) = \"\"\"\\\n",
    "        +latex(f)+\\\n",
    "        r\"\"\"\\) at the point \\(P = \"\"\"\\\n",
    "        +latex(P)+\\\n",
    "        r\"\"\"\\) in the direction \\(\\langle\"\"\"\\\n",
    "        +latex(V[0])+','+latex(V[1])+\\\n",
    "        r\"\"\"\\rangle\\).\"\"\"\n",
    "        \n",
    "        self.answer = r'\\('+latex(u[0]*fx(x=P[0],y=P[1]) + u[1]*fy(x=P[0],y=P[1]))+r'\\)'\n",
    "        \n",
    "        self.wrong_answers = [r'\\('+latex(V[0]*fx(x=P[0],y=P[1]) + V[1]*fy(x=P[0],y=P[1]))+r'\\)',\n",
    "                              r'\\('+latex(V[0]*fx(x=P[0],y=P[1]) - V[1]*fy(x=P[0],y=P[1]))+r'\\)',\n",
    "                              r'\\('+latex(u[0]*fy(x=P[0],y=P[1]) + u[1]*fx(x=P[0],y=P[1]))+r'\\)',\n",
    "                             ]\n",
    "\n",
    "# define some parameters to use\n",
    "flist = [x^2+y, x+y^2, x^3-y, y^3-x]\n",
    "Plist = [(1,2),(1,-2),(-1,2),(2,1),(2,-1)]\n",
    "\n",
    "# Now we create a list of question variants with combinations of the above parameters:\n",
    "L = [DirectionalDerivative(f,V,P) for f in flist for V in Plist for P in Plist if (V!=P)]\n",
    "\n",
    "# we remove any variants for which the various answers aren't distinct:\n",
    "L = [Q for Q in L if Q.has_distinct_answers()]\n",
    "\n",
    "display(L[0])"
   ]
  },
  {
   "cell_type": "markdown",
   "metadata": {
    "slideshow": {
     "slide_type": "slide"
    }
   },
   "source": [
    "This creates 74 variants. Some may me more challenging than others, so we really want to look at the variants, select a subset of them to use and upload only those. \n",
    "\n",
    "For this we create a question pool as an instance of the <tt>QuestionPool</tt> class and use its <tt>selection_wizard</tt> to\n",
    "run an interactive tool that lets us select the variants we want and export them."
   ]
  },
  {
   "cell_type": "code",
   "execution_count": 20,
   "metadata": {
    "slideshow": {
     "slide_type": "subslide"
    }
   },
   "outputs": [
    {
     "data": {
      "application/vnd.jupyter.widget-view+json": {
       "model_id": "3e04ae7f39574341a4e56f12b6501cc3",
       "version_major": 2,
       "version_minor": 0
      },
      "text/plain": [
       "VBox(children=(HBox(children=(ToggleButton(value=False, description='variant 0'), HTMLMath(value=''))), HBox(c…"
      ]
     },
     "metadata": {},
     "output_type": "display_data"
    },
    {
     "data": {
      "application/vnd.jupyter.widget-view+json": {
       "model_id": "558d2582f1374b5a8e1b39451870481b",
       "version_major": 2,
       "version_minor": 0
      },
      "text/plain": [
       "HBox(children=(Button(description='Count: ', style=ButtonStyle()), Button(description='Select All', style=Butt…"
      ]
     },
     "metadata": {},
     "output_type": "display_data"
    },
    {
     "data": {
      "application/vnd.jupyter.widget-view+json": {
       "model_id": "46642f6413d543d29b5948f598d40d5b",
       "version_major": 2,
       "version_minor": 0
      },
      "text/plain": [
       "Tab(children=(HBox(children=(IntRangeSlider(value=(0, 73), continuous_update=False, description='Select range:…"
      ]
     },
     "metadata": {},
     "output_type": "display_data"
    },
    {
     "data": {
      "application/vnd.jupyter.widget-view+json": {
       "model_id": "0842c8c1a22d4070bc3a57f3728438ad",
       "version_major": 2,
       "version_minor": 0
      },
      "text/plain": [
       "Output(layout=Layout(border='1px solid black'))"
      ]
     },
     "metadata": {},
     "output_type": "display_data"
    },
    {
     "data": {
      "application/vnd.jupyter.widget-view+json": {
       "model_id": "120a3e248b2648ee92d034883ba90256",
       "version_major": 2,
       "version_minor": 0
      },
      "text/plain": [
       "Button(description='Clear Output', style=ButtonStyle())"
      ]
     },
     "metadata": {},
     "output_type": "display_data"
    }
   ],
   "source": [
    "MCQpool = QuestionPool(L, quiz_name = 'Week6', question_name='CA6_DirectionalDerivative')\n",
    "MCQpool.selection_wizard()"
   ]
  },
  {
   "cell_type": "markdown",
   "metadata": {
    "slideshow": {
     "slide_type": "slide"
    }
   },
   "source": [
    "We can also make written-answer questions. Now there's more work to do, since the model solution must also be coded. The final output will be a LaTeX file containing the model solutions to each variant. This can then be compiled to PDF. \n",
    "\n",
    "The marking scheme is created with \n",
    "\n",
    "<tt>SaveMarkingScheme(L, filename)</tt>, \n",
    "\n",
    "or you just click the button in the wizard.\n",
    "\n",
    "For example, the marking scheme for the first 10 variants of the following question (from MATH1120) is: \n",
    "<a href=\"https://florianbreuer.github.io/florianbreuer/MATH1120-S2-2021-Week-8-MarkingScheme.pdf\" target=\"_blank\">MATH1120-S2-2021-Week-8-MarkingScheme.pdf</a>."
   ]
  },
  {
   "cell_type": "code",
   "execution_count": 24,
   "metadata": {
    "scrolled": true,
    "slideshow": {
     "slide_type": "subslide"
    }
   },
   "outputs": [
    {
     "data": {
      "text/html": [
       "Solve the following system of coupled linear differential equations, showing all your work:\n",
       " \\begin{align*}\n",
       "\\frac{dx_1}{dt} & = 5 x_1 - 4 x_2\\\\ \n",
       " \\frac{dx_2}{dt} & = 8 x_1 - 7 x_2 \n",
       " \\end{align*} <br>[For office use only: V 23 ]"
      ],
      "text/plain": [
       "Solve the following system of coupled linear differential equations, showing all your work:\n",
       " \\begin{align*}\n",
       "\\frac{dx_1}{dt} & = 5 x_1 - 4 x_2\\\\ \n",
       " \\frac{dx_2}{dt} & = 8 x_1 - 7 x_2 \n",
       " \\end{align*} <br>[For office use only: V 23 ]"
      ]
     },
     "metadata": {},
     "output_type": "display_data"
    },
    {
     "data": {
      "application/vnd.jupyter.widget-view+json": {
       "model_id": "eb34fa4666c1470ca32edc79faaad978",
       "version_major": 2,
       "version_minor": 0
      },
      "text/plain": [
       "VBox(children=(HBox(children=(ToggleButton(value=False, description='variant 0'), HTMLMath(value='$ \\\\left(\\\\b…"
      ]
     },
     "metadata": {},
     "output_type": "display_data"
    },
    {
     "data": {
      "application/vnd.jupyter.widget-view+json": {
       "model_id": "efa200331d134c238e72f455ea79b31e",
       "version_major": 2,
       "version_minor": 0
      },
      "text/plain": [
       "HBox(children=(Button(description='Count: ', style=ButtonStyle()), Button(description='Select All', style=Butt…"
      ]
     },
     "metadata": {},
     "output_type": "display_data"
    },
    {
     "data": {
      "application/vnd.jupyter.widget-view+json": {
       "model_id": "8cc8bf8a740b46468373339b00477c11",
       "version_major": 2,
       "version_minor": 0
      },
      "text/plain": [
       "Tab(children=(HBox(children=(IntRangeSlider(value=(0, 35), continuous_update=False, description='Select range:…"
      ]
     },
     "metadata": {},
     "output_type": "display_data"
    },
    {
     "data": {
      "application/vnd.jupyter.widget-view+json": {
       "model_id": "25e0b6099af140a8bcf8e150eba9ccc9",
       "version_major": 2,
       "version_minor": 0
      },
      "text/plain": [
       "Output(layout=Layout(border='1px solid black'))"
      ]
     },
     "metadata": {},
     "output_type": "display_data"
    },
    {
     "data": {
      "application/vnd.jupyter.widget-view+json": {
       "model_id": "2cd2c36ce6bd4048842432d4b14ec298",
       "version_major": 2,
       "version_minor": 0
      },
      "text/plain": [
       "Button(description='Clear Output', style=ButtonStyle())"
      ]
     },
     "metadata": {},
     "output_type": "display_data"
    }
   ],
   "source": [
    "class LA6_DEsystem_written(Question_Written):\n",
    "    \n",
    "    def __init__(self, v1, v2, l1, l2, variant_number=0):\n",
    "        '''2x2 system of coupled DEs, with eigenvectors v1, v2 and eigenvalues l1, l2.'''\n",
    "        Question_Written.__init__(self)\n",
    "        if l1==l2:\n",
    "            raise ValueError('Eigenvalues must be distinct')\n",
    "        if v1[0]*v2[1]==v1[1]*v2[0]:\n",
    "            raise ValueError('Eigenvectors must be linear independent')\n",
    "        P = matrix(2,2,[v1[0],v2[0],v1[1],v2[1]])\n",
    "        D = matrix(2,2,[l1,0,0,l2])\n",
    "        A = P*D*P.inverse()\n",
    "        self.A = A\n",
    "        sys = r'\\begin{align*}'+'\\n'\\\n",
    "            +r'\\frac{dx_1}{dt} & = '+suppress1(A[0][0])+'x_1'+plus(A[0][1])+r'x_2\\\\'+'\\n'\\\n",
    "            +r'\\frac{dx_2}{dt} & = '+suppress1(A[1][0])+'x_1'+plus(A[1][1])+r'x_2'+'\\n'\\\n",
    "            +r'\\end{align*}'\n",
    "        \n",
    "        la = var('lambda_')\n",
    "        M1 = A - l1*identity_matrix(2)\n",
    "        M2 = A - l2*identity_matrix(2)\n",
    "        I1 = matrix(2,1,[0,0])\n",
    "        v1 = matrix(2,1,v1)\n",
    "        v2 = matrix(2,1,v2)\n",
    "        \n",
    "        sol = r'C_1e^{'+suppress1(l1)+r't}'+latex(v1)+r' + C_2e^{'+suppress1(l2)+r't}'+latex(v2)\n",
    "        \n",
    "        self.question_text_basic = 'Solve the following system of coupled linear '+\\\n",
    "        'differential equations, showing all your work:\\n'+sys\n",
    "\n",
    "        self.solution_text = 'The coefficient matrix is\\n'+\\\n",
    "        r'\\[ A = '+'\\n'+latex(A)+'.\\n'+r'\\]'+'\\n'+\\\n",
    "        'We determine its eigenvalues and eigenvectors:\\n'+\\\n",
    "        r'\\['+'\\n'+\\\n",
    "        r'0 = \\det(A-\\lambda I) = '+latexdet(A-la*identity_matrix(2))+' = '+\\\n",
    "        latex(det(A-la*identity_matrix(2)))+\\\n",
    "        r' = (\\lambda '+pplus(-l1)+r')(\\lambda '+pplus(-l2)+').\\n'+\\\n",
    "        r'\\]'+'\\n'+\\\n",
    "        r'Thus \\(\\lambda_1 = '+latex(l1)+r'\\), and \\(\\lambda_2 = '+latex(l2)+r'\\).'+\\\n",
    "        'Next, we determine the corresponding eigenvectors.\\n\\n'+\\\n",
    "        r'For \\(\\lambda_1 = '+latex(l1)+r'\\), we solve the system'+'\\n'+\\\n",
    "        r'\\['+'\\n'+\\\n",
    "        latex(M1.augment(I1, subdivide=true))+r'\\sim'+\\\n",
    "        latex(M1.echelon_form().augment(I1, subdivide=true))+'\\n'+\\\n",
    "        r'\\]'+'\\n'+\\\n",
    "        r'\\['+'\\n'+\\\n",
    "        r' \\Longrightarrow \\; {\\bf v}_1 = '+latex(v1)+'.\\n'+\\\n",
    "        r'\\]'+'\\n'+\\\n",
    "        r'For \\(\\lambda_2 = '+latex(l2)+r'\\), we solve the system'+'\\n'+\\\n",
    "        r'\\['+'\\n'+\\\n",
    "        latex(M2.augment(I1, subdivide=true))+r'\\sim'+\\\n",
    "        latex(M2.echelon_form().augment(I1, subdivide=true))+'\\n'+\\\n",
    "        r'\\]'+'\\n'+\\\n",
    "        r'\\['+'\\n'+\\\n",
    "        r' \\Longrightarrow \\; {\\bf v}_2 = '+latex(v2)+'.\\n'+\\\n",
    "        r'\\]'+'\\n\\n'+\\\n",
    "        'The final solution is thus\\n'+\\\n",
    "        r'\\['+'\\n'+\\\n",
    "        r'\\left(\\begin{array}{l} x_1(t) \\\\ x_2(t)\\end{array}\\right) = '+'\\n'+sol+'.\\n'+\\\n",
    "        r'\\]'\n",
    "        \n",
    "        self.table_header = ['A', 'Solution']\n",
    "        \n",
    "        self.table_row = ['$'+latex(A)+'$', '$'+sol+'$']\n",
    "        \n",
    "def is_int_matrix(A):\n",
    "    for x in A.list():\n",
    "        if frac(x)!=0:\n",
    "            return(false)\n",
    "    return(true)\n",
    "        \n",
    "Q = LA6_DEsystem_written((1,1),(1,2),1,-3)\n",
    "Q.update_variant_number(23)\n",
    "display(Q)\n",
    "Q.test_solution_page('test.tex')\n",
    "\n",
    "llist = [-3,-2,2,3]\n",
    "vlist = [(1,1), (-1,1), (2,1), (1,2), (-2,1), (1,-2)]\n",
    "\n",
    "L = []\n",
    "for l1 in llist:\n",
    "    for l2 in llist:\n",
    "        if l1<l2:\n",
    "            for v1 in vlist:\n",
    "                for v2 in vlist:\n",
    "                    if v1[0]*v2[1]!=v1[1]*v2[0]:\n",
    "                        Q = LA6_DEsystem_written(v1, v2, l1, l2)\n",
    "                        if is_int_matrix(Q.A) and max(abs(x) for x in Q.A.list()) < 6\\\n",
    "                        and min(abs(x) for x in Q.A.list()) > 0:\n",
    "                            L.append(Q)\n",
    "                            \n",
    "\n",
    "pool = QuestionPool(L, quiz_name = 'Week-8', question_name='DEsystem_written18-test')\n",
    "pool.selection_wizard()   "
   ]
  },
  {
   "cell_type": "markdown",
   "metadata": {
    "slideshow": {
     "slide_type": "slide"
    }
   },
   "source": [
    "That's the end of our quick tour. If you want to know more, contact me at florian.breuer@newcastle.edu.au.\n",
    "\n",
    "In the future, I hope to add more question types as well as functionality to create random variants of paper quizzes for when we go back to invigilated in-person tests. Watch this space!"
   ]
  }
 ],
 "metadata": {
  "celltoolbar": "Slideshow",
  "kernelspec": {
   "display_name": "SageMath 9.1",
   "language": "sage",
   "name": "sagemath"
  },
  "language_info": {
   "codemirror_mode": {
    "name": "ipython",
    "version": 3
   },
   "file_extension": ".py",
   "mimetype": "text/x-python",
   "name": "python",
   "nbconvert_exporter": "python",
   "pygments_lexer": "ipython3",
   "version": "3.7.3"
  }
 },
 "nbformat": 4,
 "nbformat_minor": 2
}
