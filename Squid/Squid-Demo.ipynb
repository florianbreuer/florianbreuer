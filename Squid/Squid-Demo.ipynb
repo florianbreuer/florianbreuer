{
 "cells": [
  {
   "cell_type": "markdown",
   "metadata": {},
   "source": [
    "<img src=\"squid2.jpg\" width=\"200\">\n",
    "<h1><span style=\"Color: red\">S</span>age <span style=\"Color: red\">Qui</span>z <span style=\"Color: red\">D</span>eveloper\n",
    "</h1>\n",
    "\n",
    "Welcome to Squid! An object-oriented approach to creating variants of quiz questions.\n",
    "\n",
    "Squid was created by Florian Breuer (florian.breuer@newcastle.edu.au).\n",
    "\n",
    "This code can be found on Github: https://github.com/florianbreuer/Squid\n",
    "\n",
    "First, we load the basic classes and tools:"
   ]
  },
  {
   "cell_type": "code",
   "execution_count": 5,
   "metadata": {},
   "outputs": [
    {
     "name": "stdout",
     "output_type": "stream",
     "text": [
      "Squid Tools v2, 11 October 2021\n",
      "By Florian Breuer, florian.breuer@newcastle.edu.au\n",
      "\n",
      "Imported the following functions:\n",
      "  For handling QTI files:\n",
      "   id_generator, initialise_qti, qti_set_question_text, qti_MCQ_new, qti_set_points, qti_set_identifier,\n",
      "    qti_insert_question, qti_set_question_text, qti_file_upload_question_new, ET_MCQ, ET_file_upload_question, save_qti\n",
      "\n",
      "  For nicer typesetting:\n",
      "   nicify, nicify0, plus, pplus, suppress1, Taylor\n",
      "\n",
      "  For manipulating and typesetting matrices:\n",
      "   scramble, scramble_full, tootrivial, latexdet\n",
      "\n",
      "  For handling LMS files and marking schemes:\n",
      "   SaveToBBfile, SaveToQtiFile, PrintMarkingScheme, TypesetMarkingScheme, SaveMarkingScheme\n",
      "\n",
      "Imported the following classes:\n",
      "  MATHJAX\n",
      "  linear_system\n",
      "  Question_written\n",
      "  Question_MCQ\n",
      "  QuestionPool\n"
     ]
    }
   ],
   "source": [
    "load(\"Squid-tools2.sage\")"
   ]
  },
  {
   "cell_type": "code",
   "execution_count": 8,
   "metadata": {},
   "outputs": [
    {
     "data": {
      "text/html": [
       "Compute the directional derivative of \\(f(x) = x^{2} + y \\) at the point \\(P = \\left(1, -2\\right) \\) in the direction \\(\\langle 1 , 2 \\rangle\\). <br><ol> <li> \\( \\frac{4}{5} \\, \\sqrt{5} \\) </li>\n",
       "<li> \\( 4 \\) </li>\n",
       "<li> \\( 0 \\) </li>\n",
       "<li> \\( \\sqrt{5} \\) </li>\n",
       "<li>None of these</li> </ol>"
      ],
      "text/plain": [
       "Compute the directional derivative of \\(f(x) = x^{2} + y \\) at the point \\(P = \\left(1, -2\\right) \\) in the direction \\(\\langle 1 , 2 \\rangle\\)."
      ]
     },
     "metadata": {},
     "output_type": "display_data"
    },
    {
     "data": {
      "application/vnd.jupyter.widget-view+json": {
       "model_id": "a75bd12650dc4d1ca4bcd531b06f467f",
       "version_major": 2,
       "version_minor": 0
      },
      "text/plain": [
       "VBox(children=(HBox(children=(ToggleButton(value=False, description='variant 0'), HTMLMath(value=''))), HBox(c…"
      ]
     },
     "metadata": {},
     "output_type": "display_data"
    },
    {
     "data": {
      "application/vnd.jupyter.widget-view+json": {
       "model_id": "793c6499e7a549b3aad4eec688838f7d",
       "version_major": 2,
       "version_minor": 0
      },
      "text/plain": [
       "HBox(children=(Button(description='Count: ', style=ButtonStyle()), Button(description='Select All', style=Butt…"
      ]
     },
     "metadata": {},
     "output_type": "display_data"
    },
    {
     "data": {
      "application/vnd.jupyter.widget-view+json": {
       "model_id": "ee45c75ea94e4ce0852bece47219cebe",
       "version_major": 2,
       "version_minor": 0
      },
      "text/plain": [
       "Tab(children=(HBox(children=(IntRangeSlider(value=(0, 73), continuous_update=False, description='Select range:…"
      ]
     },
     "metadata": {},
     "output_type": "display_data"
    },
    {
     "data": {
      "application/vnd.jupyter.widget-view+json": {
       "model_id": "bf8886d266444472930ba9c8e64a58b7",
       "version_major": 2,
       "version_minor": 0
      },
      "text/plain": [
       "Output(layout=Layout(border='1px solid black'))"
      ]
     },
     "metadata": {},
     "output_type": "display_data"
    },
    {
     "data": {
      "application/vnd.jupyter.widget-view+json": {
       "model_id": "5fb6f72422544cc9b395e8806a245cf9",
       "version_major": 2,
       "version_minor": 0
      },
      "text/plain": [
       "Button(description='Clear Output', style=ButtonStyle())"
      ]
     },
     "metadata": {},
     "output_type": "display_data"
    }
   ],
   "source": [
    "#CA6: Directional derivative MCQ\n",
    "\n",
    "x,y = var('x y')\n",
    "\n",
    "# The question template is defined as class:\n",
    "\n",
    "class DirectionalDerivative(Question_MCQ):\n",
    "    def __init__(self,f,V,P,variant_number=0):\n",
    "        '''Compute the directional derivative of f(x,y) at the point P in the direction v.'''\n",
    "        Question_Written.__init__(self)\n",
    "        self.variant_number = variant_number\n",
    "        \n",
    "        fx = diff(f,x)\n",
    "        fy = diff(f,y)\n",
    "        \n",
    "        u = (V[0]/sqrt(V[0]^2+V[1]^2),V[1]/sqrt(V[0]^2+V[1]^2))\n",
    "        \n",
    "        self.question_text = r\"\"\"Compute the directional derivative of \\(f(x) = \"\"\"\\\n",
    "        +latex(f)+\\\n",
    "        r\"\"\"\\) at the point \\(P = \"\"\"\\\n",
    "        +latex(P)+\\\n",
    "        r\"\"\"\\) in the direction \\(\\langle\"\"\"\\\n",
    "        +latex(V[0])+','+latex(V[1])+\\\n",
    "        r\"\"\"\\rangle\\).\"\"\"\n",
    "        \n",
    "        self.answer = r'\\('+latex(u[0]*fx(x=P[0],y=P[1]) + u[1]*fy(x=P[0],y=P[1]))+r'\\)'\n",
    "        \n",
    "        self.wrong_answers = [r'\\('+latex(V[0]*fx(x=P[0],y=P[1]) + V[1]*fy(x=P[0],y=P[1]))+r'\\)',\n",
    "                              r'\\('+latex(V[0]*fx(x=P[0],y=P[1]) - V[1]*fy(x=P[0],y=P[1]))+r'\\)',\n",
    "                              r'\\('+latex(u[0]*fy(x=P[0],y=P[1]) + u[1]*fx(x=P[0],y=P[1]))+r'\\)',\n",
    "                             ]\n",
    "\n",
    "# define some parameters to use\n",
    "flist = [x^2+y, x+y^2, x^3-y, y^3-x]\n",
    "Plist = [(1,2),(1,-2),(-1,2),(2,1),(2,-1)]\n",
    "\n",
    "# Now we create a list of question variants with combinations of the above parameters:\n",
    "L = [DirectionalDerivative(f,V,P) for f in flist for V in Plist for P in Plist if (V!=P)]\n",
    "\n",
    "# we remove any variants for which the various answers aren't distinct:\n",
    "L = [Q for Q in L if Q.has_distinct_answers()]\n",
    "\n",
    "display(L[0])\n",
    "# for Q in L:\n",
    "#     display(Q)\n",
    "    \n",
    "# SaveToQtiFile(L, 'Squid-MCQ-test', title='Squid MCQ pool 1')\n",
    "\n",
    "# We define a question pool containing the first 20 of these question variants, then run the wizard:\n",
    "MCQpool = QuestionPool(L[:20], quiz_name = 'W12', question_name='CA6_DirectionalDerivative')\n",
    "MCQpool.selection_wizard()   "
   ]
  },
  {
   "cell_type": "code",
   "execution_count": 9,
   "metadata": {
    "scrolled": false
   },
   "outputs": [
    {
     "data": {
      "text/html": [
       "Solve the following system of coupled linear differential equations, showing all your work:\n",
       " \\begin{align*}\n",
       "\\frac{dx_1}{dt} & = 5 x_1 - 4 x_2\\\\ \n",
       " \\frac{dx_2}{dt} & = 8 x_1 - 7 x_2 \n",
       " \\end{align*} <br>[For office use only: V 23 ]"
      ],
      "text/plain": [
       "Solve the following system of coupled linear differential equations, showing all your work:\n",
       " \\begin{align*}\n",
       "\\frac{dx_1}{dt} & = 5 x_1 - 4 x_2\\\\ \n",
       " \\frac{dx_2}{dt} & = 8 x_1 - 7 x_2 \n",
       " \\end{align*} <br>[For office use only: V 23 ]"
      ]
     },
     "metadata": {},
     "output_type": "display_data"
    },
    {
     "data": {
      "application/vnd.jupyter.widget-view+json": {
       "model_id": "063324e43aa24ef59bc51e2c03855595",
       "version_major": 2,
       "version_minor": 0
      },
      "text/plain": [
       "VBox(children=(HBox(children=(ToggleButton(value=False, description='variant 0'), HTMLMath(value='$ \\\\left(\\\\b…"
      ]
     },
     "metadata": {},
     "output_type": "display_data"
    },
    {
     "data": {
      "application/vnd.jupyter.widget-view+json": {
       "model_id": "2aa9189085de4368901d07c4e667f83a",
       "version_major": 2,
       "version_minor": 0
      },
      "text/plain": [
       "HBox(children=(Button(description='Count: ', style=ButtonStyle()), Button(description='Select All', style=Butt…"
      ]
     },
     "metadata": {},
     "output_type": "display_data"
    },
    {
     "data": {
      "application/vnd.jupyter.widget-view+json": {
       "model_id": "546cc95eaa05488c85cb723c72bf36b8",
       "version_major": 2,
       "version_minor": 0
      },
      "text/plain": [
       "Tab(children=(HBox(children=(IntRangeSlider(value=(0, 35), continuous_update=False, description='Select range:…"
      ]
     },
     "metadata": {},
     "output_type": "display_data"
    },
    {
     "data": {
      "application/vnd.jupyter.widget-view+json": {
       "model_id": "8ddf5e7365a84ce4b97ac5f42d0764b5",
       "version_major": 2,
       "version_minor": 0
      },
      "text/plain": [
       "Output(layout=Layout(border='1px solid black'))"
      ]
     },
     "metadata": {},
     "output_type": "display_data"
    },
    {
     "data": {
      "application/vnd.jupyter.widget-view+json": {
       "model_id": "953c3512bf09402388193f0175129c00",
       "version_major": 2,
       "version_minor": 0
      },
      "text/plain": [
       "Button(description='Clear Output', style=ButtonStyle())"
      ]
     },
     "metadata": {},
     "output_type": "display_data"
    }
   ],
   "source": [
    "# LA6_DEsystem_written\n",
    "\n",
    "class LA6_DEsystem_written(Question_Written):\n",
    "    \n",
    "    def __init__(self, v1, v2, l1, l2, variant_number=0):\n",
    "        '''2x2 system of coupled DEs, with eigenvectors v1, v2 and eigenvalues l1, l2.'''\n",
    "        Question_Written.__init__(self)\n",
    "        if l1==l2:\n",
    "            raise ValueError('Eigenvalues must be distinct')\n",
    "        if v1[0]*v2[1]==v1[1]*v2[0]:\n",
    "            raise ValueError('Eigenvectors must be linear independent')\n",
    "        P = matrix(2,2,[v1[0],v2[0],v1[1],v2[1]])\n",
    "        D = matrix(2,2,[l1,0,0,l2])\n",
    "        A = P*D*P.inverse()\n",
    "        self.A = A\n",
    "        sys = r'\\begin{align*}'+'\\n'\\\n",
    "            +r'\\frac{dx_1}{dt} & = '+suppress1(A[0][0])+'x_1'+plus(A[0][1])+r'x_2\\\\'+'\\n'\\\n",
    "            +r'\\frac{dx_2}{dt} & = '+suppress1(A[1][0])+'x_1'+plus(A[1][1])+r'x_2'+'\\n'\\\n",
    "            +r'\\end{align*}'\n",
    "        \n",
    "        la = var('lambda_')\n",
    "        M1 = A - l1*identity_matrix(2)\n",
    "        M2 = A - l2*identity_matrix(2)\n",
    "        I1 = matrix(2,1,[0,0])\n",
    "        v1 = matrix(2,1,v1)\n",
    "        v2 = matrix(2,1,v2)\n",
    "        \n",
    "        sol = r'C_1e^{'+suppress1(l1)+r't}'+latex(v1)+r' + C_2e^{'+suppress1(l2)+r't}'+latex(v2)\n",
    "        \n",
    "        self.question_text_basic = 'Solve the following system of coupled linear '+\\\n",
    "        'differential equations, showing all your work:\\n'+sys\n",
    "        \n",
    "#         self.question_text = self.question_text_basic\n",
    "        \n",
    "        self.solution_text = 'The coefficient matrix is\\n'+\\\n",
    "        r'\\[ A = '+'\\n'+latex(A)+'.\\n'+r'\\]'+'\\n'+\\\n",
    "        'We determine its eigenvalues and eigenvectors:\\n'+\\\n",
    "        r'\\['+'\\n'+\\\n",
    "        r'0 = \\det(A-\\lambda I) = '+latexdet(A-la*identity_matrix(2))+' = '+\\\n",
    "        latex(det(A-la*identity_matrix(2)))+\\\n",
    "        r' = (\\lambda '+pplus(-l1)+r')(\\lambda '+pplus(-l2)+').\\n'+\\\n",
    "        r'\\]'+'\\n'+\\\n",
    "        r'Thus \\(\\lambda_1 = '+latex(l1)+r'\\), and \\(\\lambda_2 = '+latex(l2)+r'\\).'+\\\n",
    "        'Next, we determine the corresponding eigenvectors.\\n\\n'+\\\n",
    "        r'For \\(\\lambda_1 = '+latex(l1)+r'\\), we solve the system'+'\\n'+\\\n",
    "        r'\\['+'\\n'+\\\n",
    "        latex(M1.augment(I1, subdivide=true))+r'\\sim'+\\\n",
    "        latex(M1.echelon_form().augment(I1, subdivide=true))+'\\n'+\\\n",
    "        r'\\]'+'\\n'+\\\n",
    "        r'\\['+'\\n'+\\\n",
    "        r' \\Longrightarrow \\; {\\bf v}_1 = '+latex(v1)+'.\\n'+\\\n",
    "        r'\\]'+'\\n'+\\\n",
    "        r'For \\(\\lambda_2 = '+latex(l2)+r'\\), we solve the system'+'\\n'+\\\n",
    "        r'\\['+'\\n'+\\\n",
    "        latex(M2.augment(I1, subdivide=true))+r'\\sim'+\\\n",
    "        latex(M2.echelon_form().augment(I1, subdivide=true))+'\\n'+\\\n",
    "        r'\\]'+'\\n'+\\\n",
    "        r'\\['+'\\n'+\\\n",
    "        r' \\Longrightarrow \\; {\\bf v}_2 = '+latex(v2)+'.\\n'+\\\n",
    "        r'\\]'+'\\n\\n'+\\\n",
    "        'The final solution is thus\\n'+\\\n",
    "        r'\\['+'\\n'+\\\n",
    "        r'\\left(\\begin{array}{l} x_1(t) \\\\ x_2(t)\\end{array}\\right) = '+'\\n'+sol+'.\\n'+\\\n",
    "        r'\\]'\n",
    "        \n",
    "        self.table_header = ['A', 'Solution']\n",
    "        \n",
    "        self.table_row = ['$'+latex(A)+'$', '$'+sol+'$']\n",
    "        \n",
    "def is_int_matrix(A):\n",
    "    for x in A.list():\n",
    "        if frac(x)!=0:\n",
    "            return(false)\n",
    "    return(true)\n",
    "        \n",
    "Q = LA6_DEsystem_written((1,1),(1,2),1,-3)\n",
    "Q.update_variant_number(23)\n",
    "display(Q)\n",
    "Q.test_solution_page('test.tex')\n",
    "\n",
    "llist = [-3,-2,2,3]\n",
    "vlist = [(1,1), (-1,1), (2,1), (1,2), (-2,1), (1,-2)]\n",
    "\n",
    "L = []\n",
    "for l1 in llist:\n",
    "    for l2 in llist:\n",
    "        if l1<l2:\n",
    "            for v1 in vlist:\n",
    "                for v2 in vlist:\n",
    "                    if v1[0]*v2[1]!=v1[1]*v2[0]:\n",
    "                        Q = LA6_DEsystem_written(v1, v2, l1, l2)\n",
    "                        if is_int_matrix(Q.A) and max(abs(x) for x in Q.A.list()) < 6\\\n",
    "                        and min(abs(x) for x in Q.A.list()) > 0:\n",
    "                            L.append(Q)\n",
    "                            \n",
    "\n",
    "# SaveToQtiFile(L, 'SquidTest1', 'Squid QTI Test Pool')\n",
    "pool = QuestionPool(L, quiz_name = 'W12', question_name='LA6_DEsystem_written18-test')\n",
    "pool.selection_wizard()   "
   ]
  },
  {
   "cell_type": "code",
   "execution_count": null,
   "metadata": {},
   "outputs": [],
   "source": []
  }
 ],
 "metadata": {
  "kernelspec": {
   "display_name": "SageMath 9.1",
   "language": "sage",
   "name": "sagemath"
  },
  "language_info": {
   "codemirror_mode": {
    "name": "ipython",
    "version": 3
   },
   "file_extension": ".py",
   "mimetype": "text/x-python",
   "name": "python",
   "nbconvert_exporter": "python",
   "pygments_lexer": "ipython3",
   "version": "3.7.3"
  }
 },
 "nbformat": 4,
 "nbformat_minor": 2
}
